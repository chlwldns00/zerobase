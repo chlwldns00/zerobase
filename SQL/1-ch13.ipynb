{
 "cells": [
  {
   "cell_type": "markdown",
   "metadata": {},
   "source": [
    "### mysql커넥터로 sql연결해서 파이썬 환경에서 사용하기\n"
   ]
  },
  {
   "cell_type": "markdown",
   "metadata": {},
   "source": [
    "- 1.연결(디비단위연결/전체연결)"
   ]
  },
  {
   "cell_type": "code",
   "execution_count": 40,
   "metadata": {},
   "outputs": [],
   "source": [
    "import mysql.connector"
   ]
  },
  {
   "cell_type": "code",
   "execution_count": 41,
   "metadata": {},
   "outputs": [],
   "source": [
    "mydb=mysql.connector.connect (\n",
    "    host='localhost',\n",
    "    port='3306',\n",
    "    user = 'root',\n",
    "    db='zb',\n",
    "    password= 'ryan1024@'\n",
    ")"
   ]
  },
  {
   "cell_type": "code",
   "execution_count": 42,
   "metadata": {},
   "outputs": [
    {
     "data": {
      "text/plain": [
       "<mysql.connector.connection_cext.CMySQLConnection at 0x281afae2c70>"
      ]
     },
     "execution_count": 42,
     "metadata": {},
     "output_type": "execute_result"
    }
   ],
   "source": [
    "mydb"
   ]
  },
  {
   "cell_type": "markdown",
   "metadata": {},
   "source": [
    "- 2.쿼리를 날릴수있는 커서지정"
   ]
  },
  {
   "cell_type": "code",
   "execution_count": 32,
   "metadata": {},
   "outputs": [
    {
     "name": "stdout",
     "output_type": "stream",
     "text": [
      "(1, '아이유', datetime.date(1993, 5, 16), 29, 'F', '가수,텔런트', 'EDAM엔터테이먼트')\n"
     ]
    }
   ],
   "source": [
    "cur=mydb.cursor(buffered=True)\n",
    "cur.execute('select * from celeb')\n",
    "res=cur.fetchone()\n",
    "print(res)"
   ]
  },
  {
   "cell_type": "markdown",
   "metadata": {},
   "source": [
    "- 3.excute로 쿼리를 실행시켰으면 close로 처리해줘야한다**\n"
   ]
  },
  {
   "cell_type": "code",
   "execution_count": 33,
   "metadata": {},
   "outputs": [
    {
     "data": {
      "text/plain": [
       "True"
      ]
     },
     "execution_count": 33,
     "metadata": {},
     "output_type": "execute_result"
    }
   ],
   "source": [
    "cur.close()"
   ]
  },
  {
   "cell_type": "markdown",
   "metadata": {},
   "source": [
    "- 4.결과를 저장하려면 "
   ]
  },
  {
   "cell_type": "markdown",
   "metadata": {},
   "source": [
    "---"
   ]
  },
  {
   "cell_type": "markdown",
   "metadata": {},
   "source": [
    "### sql파일을 python환경에서 실행 sql.open()"
   ]
  },
  {
   "cell_type": "code",
   "execution_count": 35,
   "metadata": {},
   "outputs": [],
   "source": [
    "cur=mydb.cursor(buffered=True)\n",
    "sql=open('C:/Users/home/.dbclient/query/1724147702905@@127.0.0.1@3306@zb/zbquerytest1.sql').read()\n",
    "cur.execute(sql)"
   ]
  },
  {
   "cell_type": "markdown",
   "metadata": {},
   "source": [
    "---"
   ]
  },
  {
   "cell_type": "markdown",
   "metadata": {},
   "source": [
    "### fecthall된 DB데이터를 데이터프레임으로 저장 및 csv로 추출(Database table to dataframe, csv)"
   ]
  },
  {
   "cell_type": "code",
   "execution_count": 39,
   "metadata": {},
   "outputs": [
    {
     "data": {
      "text/html": [
       "<div>\n",
       "<style scoped>\n",
       "    .dataframe tbody tr th:only-of-type {\n",
       "        vertical-align: middle;\n",
       "    }\n",
       "\n",
       "    .dataframe tbody tr th {\n",
       "        vertical-align: top;\n",
       "    }\n",
       "\n",
       "    .dataframe thead th {\n",
       "        text-align: right;\n",
       "    }\n",
       "</style>\n",
       "<table border=\"1\" class=\"dataframe\">\n",
       "  <thead>\n",
       "    <tr style=\"text-align: right;\">\n",
       "      <th></th>\n",
       "      <th>ID</th>\n",
       "      <th>SEASON</th>\n",
       "      <th>EPISODE</th>\n",
       "      <th>BROADCAST_DATE</th>\n",
       "      <th>HOST</th>\n",
       "    </tr>\n",
       "  </thead>\n",
       "  <tbody>\n",
       "    <tr>\n",
       "      <th>0</th>\n",
       "      <td>1</td>\n",
       "      <td>8</td>\n",
       "      <td>7</td>\n",
       "      <td>2020-09-05</td>\n",
       "      <td>강동원</td>\n",
       "    </tr>\n",
       "    <tr>\n",
       "      <th>1</th>\n",
       "      <td>2</td>\n",
       "      <td>8</td>\n",
       "      <td>8</td>\n",
       "      <td>2020-09-12</td>\n",
       "      <td>유재석</td>\n",
       "    </tr>\n",
       "    <tr>\n",
       "      <th>2</th>\n",
       "      <td>3</td>\n",
       "      <td>8</td>\n",
       "      <td>9</td>\n",
       "      <td>2020-09-19</td>\n",
       "      <td>차승원</td>\n",
       "    </tr>\n",
       "    <tr>\n",
       "      <th>3</th>\n",
       "      <td>4</td>\n",
       "      <td>8</td>\n",
       "      <td>10</td>\n",
       "      <td>2020-09-26</td>\n",
       "      <td>이수현</td>\n",
       "    </tr>\n",
       "    <tr>\n",
       "      <th>4</th>\n",
       "      <td>5</td>\n",
       "      <td>9</td>\n",
       "      <td>1</td>\n",
       "      <td>2021-09-04</td>\n",
       "      <td>이병헌</td>\n",
       "    </tr>\n",
       "    <tr>\n",
       "      <th>5</th>\n",
       "      <td>6</td>\n",
       "      <td>9</td>\n",
       "      <td>2</td>\n",
       "      <td>2021-09-11</td>\n",
       "      <td>하지원</td>\n",
       "    </tr>\n",
       "    <tr>\n",
       "      <th>6</th>\n",
       "      <td>7</td>\n",
       "      <td>9</td>\n",
       "      <td>3</td>\n",
       "      <td>2021-09-18</td>\n",
       "      <td>제시</td>\n",
       "    </tr>\n",
       "    <tr>\n",
       "      <th>7</th>\n",
       "      <td>8</td>\n",
       "      <td>9</td>\n",
       "      <td>4</td>\n",
       "      <td>2021-09-25</td>\n",
       "      <td>조정석</td>\n",
       "    </tr>\n",
       "    <tr>\n",
       "      <th>8</th>\n",
       "      <td>9</td>\n",
       "      <td>9</td>\n",
       "      <td>5</td>\n",
       "      <td>2021-10-02</td>\n",
       "      <td>조여정</td>\n",
       "    </tr>\n",
       "    <tr>\n",
       "      <th>9</th>\n",
       "      <td>10</td>\n",
       "      <td>9</td>\n",
       "      <td>6</td>\n",
       "      <td>2021-10-09</td>\n",
       "      <td>옥주현</td>\n",
       "    </tr>\n",
       "  </tbody>\n",
       "</table>\n",
       "</div>"
      ],
      "text/plain": [
       "   ID  SEASON  EPISODE BROADCAST_DATE HOST\n",
       "0   1       8        7     2020-09-05  강동원\n",
       "1   2       8        8     2020-09-12  유재석\n",
       "2   3       8        9     2020-09-19  차승원\n",
       "3   4       8       10     2020-09-26  이수현\n",
       "4   5       9        1     2021-09-04  이병헌\n",
       "5   6       9        2     2021-09-11  하지원\n",
       "6   7       9        3     2021-09-18   제시\n",
       "7   8       9        4     2021-09-25  조정석\n",
       "8   9       9        5     2021-10-02  조여정\n",
       "9  10       9        6     2021-10-09  옥주현"
      ]
     },
     "execution_count": 39,
     "metadata": {},
     "output_type": "execute_result"
    }
   ],
   "source": [
    "import pandas as pd\n",
    "cur.execute('select * from snl_show')\n",
    "res=cur.fetchall()\n",
    "column_names = [i[0] for i in cur.description] #fecth결과는 컬럼명을 미 포함하기 때문에 컬럼명을 뽑아서 넣어줘야한다.\n",
    "df=pd.DataFrame(res,columns=column_names)\n",
    "df\n",
    "#df.to_csv('result1.csv',index=False)\n"
   ]
  },
  {
   "cell_type": "markdown",
   "metadata": {},
   "source": [
    "---\n",
    "\n"
   ]
  },
  {
   "cell_type": "markdown",
   "metadata": {},
   "source": [
    "### Dataframe, csv to database table"
   ]
  },
  {
   "cell_type": "code",
   "execution_count": 49,
   "metadata": {},
   "outputs": [],
   "source": [
    "df=pd.read_csv('Data/police_station.csv')"
   ]
  },
  {
   "cell_type": "code",
   "execution_count": 50,
   "metadata": {},
   "outputs": [
    {
     "data": {
      "text/plain": [
       "서울특별시경찰청            0\n",
       "서울시 종로구 사직로8길 31    0\n",
       "dtype: int64"
      ]
     },
     "execution_count": 50,
     "metadata": {},
     "output_type": "execute_result"
    }
   ],
   "source": [
    "df.isnull().sum()\n"
   ]
  },
  {
   "cell_type": "code",
   "execution_count": 43,
   "metadata": {},
   "outputs": [],
   "source": [
    "cur=mydb.cursor(buffered=True)"
   ]
  },
  {
   "cell_type": "markdown",
   "metadata": {},
   "source": [
    "**쿼리의 자리표시자 사용 => 넣을 데이터를 튜플형태로 넣어야한다.**"
   ]
  },
  {
   "cell_type": "code",
   "execution_count": 51,
   "metadata": {},
   "outputs": [],
   "source": [
    "sql='insert into police_station values (%s,%s)'"
   ]
  },
  {
   "cell_type": "markdown",
   "metadata": {},
   "source": [
    "- row데이터를 하나씩 시리즈타입으로 뽑은뒤 튜플로 바꿔 sql의 자리표시자에 넣어준다\n"
   ]
  },
  {
   "cell_type": "code",
   "execution_count": 52,
   "metadata": {},
   "outputs": [],
   "source": [
    "for i,row in df.iterrows():\n",
    "    cur.execute(sql,tuple(row))\n",
    "    mydb.commit()"
   ]
  },
  {
   "cell_type": "markdown",
   "metadata": {},
   "source": [
    "- 결과확인\n"
   ]
  },
  {
   "cell_type": "code",
   "execution_count": 53,
   "metadata": {},
   "outputs": [
    {
     "name": "stdout",
     "output_type": "stream",
     "text": [
      "('서울강남경찰서', '서울특별시 강남구 테헤란로 114길 11')\n",
      "('서울강동경찰서', '서울특별시 강동구 성내로 33')\n",
      "('서울강북경찰서', '서울특별시 강북구 오패산로 406')\n",
      "('서울강서경찰서', '서울특별시 양천구 화곡로 73')\n",
      "('서울관악경찰서', '서울특별시 관악구 관악로5길 33')\n",
      "('서울광진경찰서', '서울특별시 광진구 광나루로 447 광진소방서 임시청사 (능동)')\n",
      "('서울구로경찰서', '서울특별시 구로구 가마산로 235')\n",
      "('서울금천경찰서', '서울특별시 관악구 남부순환로 1435')\n",
      "('서울남대문경찰서', '서울특별시 중구 한강대로 410')\n",
      "('서울노원경찰서', '서울특별시 노원구 노원로 283')\n",
      "('서울도봉경찰서', '서울특별시 도봉구 노해로 403')\n",
      "('서울동대문경찰서', '서울특별시 동대문구 약령시로 21길 29')\n",
      "('서울동작경찰서', '서울특별시 동작구 노량진로 148')\n",
      "('서울마포경찰서', '서울특별시 마포구 마포대로 183')\n",
      "('서울방배경찰서', '서울특별시 서초구 방배천로 54')\n",
      "('서울서대문경찰서', '서울특별시 서대문구 통일로 113')\n",
      "('서울서부경찰서', '서울특별시 은평구 은평로9길 15')\n",
      "('서울서초경찰서', '서울특별시 서초구 반포대로 179')\n",
      "('서울성동경찰서', '서울특별시 성동구 왕십리광장로 9')\n",
      "('서울성북경찰서', '서울특별시 성북구 보문로 170')\n",
      "('서울송파경찰서', '서울특별시 송파구 중대로 221')\n",
      "('서울수서경찰서', '서울특별시 강남구 개포로 617')\n",
      "('서울양천경찰서', '서울특별시 양천구 목동동로 99')\n",
      "('서울영등포경찰서', '서울특별시 영등포구 국회대로 608')\n",
      "('서울용산경찰서', '서울특별시 용산구 원효로89길 24')\n",
      "('서울은평경찰서', '서울특별시 은평구 연서로 365')\n",
      "('서울종로경찰서', '서울특별시 종로구 율곡로 46')\n",
      "('서울종암경찰서', '서울특별시 성북구 종암로 135')\n",
      "('서울중랑경찰서', '서울특별시 중랑구 중랑역로 137')\n",
      "('서울중부경찰서', '서울특별시 중구 수표로 27')\n",
      "('서울혜화경찰서', '서울특별시 종로구 창경궁로 112-16')\n"
     ]
    }
   ],
   "source": [
    "cur.execute('select * from police_station ')\n",
    "res=cur.fetchall()\n",
    "for i in res:\n",
    "    print(i)\n"
   ]
  },
  {
   "cell_type": "markdown",
   "metadata": {},
   "source": [
    "---\n",
    "### 2020crime 데이터프레임 csv 테이블 화 하기"
   ]
  },
  {
   "cell_type": "code",
   "execution_count": 57,
   "metadata": {},
   "outputs": [
    {
     "data": {
      "text/html": [
       "<div>\n",
       "<style scoped>\n",
       "    .dataframe tbody tr th:only-of-type {\n",
       "        vertical-align: middle;\n",
       "    }\n",
       "\n",
       "    .dataframe tbody tr th {\n",
       "        vertical-align: top;\n",
       "    }\n",
       "\n",
       "    .dataframe thead th {\n",
       "        text-align: right;\n",
       "    }\n",
       "</style>\n",
       "<table border=\"1\" class=\"dataframe\">\n",
       "  <thead>\n",
       "    <tr style=\"text-align: right;\">\n",
       "      <th></th>\n",
       "      <th>구분</th>\n",
       "      <th>죄종</th>\n",
       "      <th>발생검거</th>\n",
       "      <th>건수</th>\n",
       "    </tr>\n",
       "  </thead>\n",
       "  <tbody>\n",
       "    <tr>\n",
       "      <th>0</th>\n",
       "      <td>중부</td>\n",
       "      <td>살인</td>\n",
       "      <td>발생</td>\n",
       "      <td>1</td>\n",
       "    </tr>\n",
       "    <tr>\n",
       "      <th>1</th>\n",
       "      <td>중부</td>\n",
       "      <td>살인</td>\n",
       "      <td>검거</td>\n",
       "      <td>1</td>\n",
       "    </tr>\n",
       "    <tr>\n",
       "      <th>2</th>\n",
       "      <td>중부</td>\n",
       "      <td>강도</td>\n",
       "      <td>발생</td>\n",
       "      <td>3</td>\n",
       "    </tr>\n",
       "    <tr>\n",
       "      <th>3</th>\n",
       "      <td>중부</td>\n",
       "      <td>강도</td>\n",
       "      <td>검거</td>\n",
       "      <td>4</td>\n",
       "    </tr>\n",
       "    <tr>\n",
       "      <th>4</th>\n",
       "      <td>중부</td>\n",
       "      <td>강간,추행</td>\n",
       "      <td>발생</td>\n",
       "      <td>113</td>\n",
       "    </tr>\n",
       "    <tr>\n",
       "      <th>...</th>\n",
       "      <td>...</td>\n",
       "      <td>...</td>\n",
       "      <td>...</td>\n",
       "      <td>...</td>\n",
       "    </tr>\n",
       "    <tr>\n",
       "      <th>305</th>\n",
       "      <td>수서</td>\n",
       "      <td>강간,추행</td>\n",
       "      <td>검거</td>\n",
       "      <td>194</td>\n",
       "    </tr>\n",
       "    <tr>\n",
       "      <th>306</th>\n",
       "      <td>수서</td>\n",
       "      <td>절도</td>\n",
       "      <td>발생</td>\n",
       "      <td>1010</td>\n",
       "    </tr>\n",
       "    <tr>\n",
       "      <th>307</th>\n",
       "      <td>수서</td>\n",
       "      <td>절도</td>\n",
       "      <td>검거</td>\n",
       "      <td>475</td>\n",
       "    </tr>\n",
       "    <tr>\n",
       "      <th>308</th>\n",
       "      <td>수서</td>\n",
       "      <td>폭력</td>\n",
       "      <td>발생</td>\n",
       "      <td>1394</td>\n",
       "    </tr>\n",
       "    <tr>\n",
       "      <th>309</th>\n",
       "      <td>수서</td>\n",
       "      <td>폭력</td>\n",
       "      <td>검거</td>\n",
       "      <td>1200</td>\n",
       "    </tr>\n",
       "  </tbody>\n",
       "</table>\n",
       "<p>310 rows × 4 columns</p>\n",
       "</div>"
      ],
      "text/plain": [
       "     구분     죄종 발생검거    건수\n",
       "0    중부     살인   발생     1\n",
       "1    중부     살인   검거     1\n",
       "2    중부     강도   발생     3\n",
       "3    중부     강도   검거     4\n",
       "4    중부  강간,추행   발생   113\n",
       "..   ..    ...  ...   ...\n",
       "305  수서  강간,추행   검거   194\n",
       "306  수서     절도   발생  1010\n",
       "307  수서     절도   검거   475\n",
       "308  수서     폭력   발생  1394\n",
       "309  수서     폭력   검거  1200\n",
       "\n",
       "[310 rows x 4 columns]"
      ]
     },
     "execution_count": 57,
     "metadata": {},
     "output_type": "execute_result"
    }
   ],
   "source": [
    "df_crime=pd.read_csv('Data/2020_crime.csv',encoding='euc-kr')\n",
    "df_crime"
   ]
  },
  {
   "cell_type": "code",
   "execution_count": 59,
   "metadata": {},
   "outputs": [
    {
     "data": {
      "text/plain": [
       "구분      0\n",
       "죄종      0\n",
       "발생검거    0\n",
       "건수      0\n",
       "dtype: int64"
      ]
     },
     "execution_count": 59,
     "metadata": {},
     "output_type": "execute_result"
    }
   ],
   "source": [
    "df_crime.isnull().sum()"
   ]
  },
  {
   "cell_type": "code",
   "execution_count": 64,
   "metadata": {},
   "outputs": [
    {
     "data": {
      "text/plain": [
       "numpy.int64"
      ]
     },
     "execution_count": 64,
     "metadata": {},
     "output_type": "execute_result"
    }
   ],
   "source": [
    "type(df_crime['건수'][0])"
   ]
  },
  {
   "cell_type": "markdown",
   "metadata": {},
   "source": [
    "- 2020_crime테이블 만들어놓기\n",
    "```\n",
    "CREATE TABLE 2020_crime\n",
    "(\n",
    "구분 varchar(10) NOT NULL PRIMARY KEY,\n",
    "죄종 varchar(20),\n",
    "발생검거 varchar(20),\n",
    "건수 int);\n",
    "```"
   ]
  },
  {
   "cell_type": "markdown",
   "metadata": {},
   "source": [
    "- 데이터 insert"
   ]
  },
  {
   "cell_type": "code",
   "execution_count": 58,
   "metadata": {},
   "outputs": [],
   "source": [
    "sql='insert into 2020_crime values (%s, %s, %s, %d)'"
   ]
  },
  {
   "cell_type": "code",
   "execution_count": 60,
   "metadata": {},
   "outputs": [],
   "source": [
    "cur=mydb.cursor(buffered=True)"
   ]
  },
  {
   "cell_type": "code",
   "execution_count": 61,
   "metadata": {},
   "outputs": [
    {
     "ename": "ProgrammingError",
     "evalue": "Not all parameters were used in the SQL statement",
     "output_type": "error",
     "traceback": [
      "\u001b[1;31m---------------------------------------------------------------------------\u001b[0m",
      "\u001b[1;31mProgrammingError\u001b[0m                          Traceback (most recent call last)",
      "\u001b[1;32m~\\AppData\\Local\\Temp\\ipykernel_7896\\2290069378.py\u001b[0m in \u001b[0;36m<module>\u001b[1;34m\u001b[0m\n\u001b[0;32m      1\u001b[0m \u001b[1;32mfor\u001b[0m \u001b[0mi\u001b[0m \u001b[1;33m,\u001b[0m \u001b[0mrow\u001b[0m \u001b[1;32min\u001b[0m \u001b[0mdf_crime\u001b[0m\u001b[1;33m.\u001b[0m\u001b[0miterrows\u001b[0m\u001b[1;33m(\u001b[0m\u001b[1;33m)\u001b[0m\u001b[1;33m:\u001b[0m\u001b[1;33m\u001b[0m\u001b[1;33m\u001b[0m\u001b[0m\n\u001b[1;32m----> 2\u001b[1;33m     \u001b[0mcur\u001b[0m\u001b[1;33m.\u001b[0m\u001b[0mexecute\u001b[0m\u001b[1;33m(\u001b[0m\u001b[0msql\u001b[0m\u001b[1;33m,\u001b[0m\u001b[0mtuple\u001b[0m\u001b[1;33m(\u001b[0m\u001b[0mrow\u001b[0m\u001b[1;33m)\u001b[0m\u001b[1;33m)\u001b[0m\u001b[1;33m\u001b[0m\u001b[1;33m\u001b[0m\u001b[0m\n\u001b[0m\u001b[0;32m      3\u001b[0m     \u001b[0mmydb\u001b[0m\u001b[1;33m.\u001b[0m\u001b[0mcommit\u001b[0m\u001b[1;33m(\u001b[0m\u001b[1;33m)\u001b[0m\u001b[1;33m\u001b[0m\u001b[1;33m\u001b[0m\u001b[0m\n",
      "\u001b[1;32mc:\\Users\\home\\anaconda3\\lib\\site-packages\\mysql\\connector\\cursor_cext.py\u001b[0m in \u001b[0;36mexecute\u001b[1;34m(self, operation, params, multi)\u001b[0m\n\u001b[0;32m    350\u001b[0m                 \u001b[0mstmt\u001b[0m \u001b[1;33m=\u001b[0m \u001b[0mRE_PY_PARAM\u001b[0m\u001b[1;33m.\u001b[0m\u001b[0msub\u001b[0m\u001b[1;33m(\u001b[0m\u001b[0mpsub\u001b[0m\u001b[1;33m,\u001b[0m \u001b[0mstmt\u001b[0m\u001b[1;33m)\u001b[0m\u001b[1;33m\u001b[0m\u001b[1;33m\u001b[0m\u001b[0m\n\u001b[0;32m    351\u001b[0m                 \u001b[1;32mif\u001b[0m \u001b[0mpsub\u001b[0m\u001b[1;33m.\u001b[0m\u001b[0mremaining\u001b[0m \u001b[1;33m!=\u001b[0m \u001b[1;36m0\u001b[0m\u001b[1;33m:\u001b[0m\u001b[1;33m\u001b[0m\u001b[1;33m\u001b[0m\u001b[0m\n\u001b[1;32m--> 352\u001b[1;33m                     raise ProgrammingError(\n\u001b[0m\u001b[0;32m    353\u001b[0m                         \u001b[1;34m\"Not all parameters were used in the SQL statement\"\u001b[0m\u001b[1;33m\u001b[0m\u001b[1;33m\u001b[0m\u001b[0m\n\u001b[0;32m    354\u001b[0m                     )\n",
      "\u001b[1;31mProgrammingError\u001b[0m: Not all parameters were used in the SQL statement"
     ]
    }
   ],
   "source": [
    "for i , row in df_crime.iterrows():\n",
    "    cur.execute(sql,tuple(row))\n",
    "    mydb.commit()"
   ]
  }
 ],
 "metadata": {
  "kernelspec": {
   "display_name": "base",
   "language": "python",
   "name": "python3"
  },
  "language_info": {
   "codemirror_mode": {
    "name": "ipython",
    "version": 3
   },
   "file_extension": ".py",
   "mimetype": "text/x-python",
   "name": "python",
   "nbconvert_exporter": "python",
   "pygments_lexer": "ipython3",
   "version": "3.9.13"
  }
 },
 "nbformat": 4,
 "nbformat_minor": 2
}
