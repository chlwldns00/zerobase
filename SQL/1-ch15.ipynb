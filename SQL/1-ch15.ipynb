{
 "cells": [
  {
   "cell_type": "code",
   "execution_count": 1,
   "metadata": {},
   "outputs": [],
   "source": [
    "import mysql.connector"
   ]
  },
  {
   "cell_type": "code",
   "execution_count": 2,
   "metadata": {},
   "outputs": [],
   "source": [
    "mydb=mysql.connector.connect (\n",
    "    host='localhost',\n",
    "    port='3306',\n",
    "    user = 'root',\n",
    "    db='zb',\n",
    "    password= 'ryan1024@'\n",
    ")"
   ]
  },
  {
   "cell_type": "code",
   "execution_count": 3,
   "metadata": {},
   "outputs": [],
   "source": [
    "cur=mydb.cursor(buffered=True)\n"
   ]
  },
  {
   "cell_type": "markdown",
   "metadata": {},
   "source": [
    "### 혼자서해보기"
   ]
  },
  {
   "cell_type": "markdown",
   "metadata": {},
   "source": [
    "1.police_station 에서 경찰서는 총 몇개이고, 각각 경찰서 이름음 무엇인지 확인하세요."
   ]
  },
  {
   "cell_type": "code",
   "execution_count": 6,
   "metadata": {},
   "outputs": [],
   "source": [
    "sql = 'select count(distinct name) from police_station;'"
   ]
  },
  {
   "cell_type": "code",
   "execution_count": 8,
   "metadata": {},
   "outputs": [],
   "source": [
    "sql='select distinct name from police_station '"
   ]
  },
  {
   "cell_type": "code",
   "execution_count": 9,
   "metadata": {},
   "outputs": [
    {
     "name": "stdout",
     "output_type": "stream",
     "text": [
      "('서울강남경찰서',)\n",
      "('서울강동경찰서',)\n",
      "('서울강북경찰서',)\n",
      "('서울강서경찰서',)\n",
      "('서울관악경찰서',)\n",
      "('서울광진경찰서',)\n",
      "('서울구로경찰서',)\n",
      "('서울금천경찰서',)\n",
      "('서울남대문경찰서',)\n",
      "('서울노원경찰서',)\n",
      "('서울도봉경찰서',)\n",
      "('서울동대문경찰서',)\n",
      "('서울동작경찰서',)\n",
      "('서울마포경찰서',)\n",
      "('서울방배경찰서',)\n",
      "('서울서대문경찰서',)\n",
      "('서울서부경찰서',)\n",
      "('서울서초경찰서',)\n",
      "('서울성동경찰서',)\n",
      "('서울성북경찰서',)\n",
      "('서울송파경찰서',)\n",
      "('서울수서경찰서',)\n",
      "('서울양천경찰서',)\n",
      "('서울영등포경찰서',)\n",
      "('서울용산경찰서',)\n",
      "('서울은평경찰서',)\n",
      "('서울종로경찰서',)\n",
      "('서울종암경찰서',)\n",
      "('서울중랑경찰서',)\n",
      "('서울중부경찰서',)\n",
      "('서울혜화경찰서',)\n"
     ]
    }
   ],
   "source": [
    "cur.execute(sql)\n",
    "res=cur.fetchall()\n",
    "for i in res:\n",
    "    print(i)"
   ]
  },
  {
   "cell_type": "markdown",
   "metadata": {},
   "source": [
    "3"
   ]
  },
  {
   "cell_type": "code",
   "execution_count": null,
   "metadata": {},
   "outputs": [],
   "source": []
  }
 ],
 "metadata": {
  "kernelspec": {
   "display_name": "base",
   "language": "python",
   "name": "python3"
  },
  "language_info": {
   "codemirror_mode": {
    "name": "ipython",
    "version": 3
   },
   "file_extension": ".py",
   "mimetype": "text/x-python",
   "name": "python",
   "nbconvert_exporter": "python",
   "pygments_lexer": "ipython3",
   "version": "3.9.13"
  }
 },
 "nbformat": 4,
 "nbformat_minor": 2
}
